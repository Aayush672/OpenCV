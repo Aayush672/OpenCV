{
 "cells": [
  {
   "cell_type": "code",
   "execution_count": 1,
   "id": "b19b66b4",
   "metadata": {},
   "outputs": [
    {
     "ename": "ModuleNotFoundError",
     "evalue": "No module named 'imutils'",
     "output_type": "error",
     "traceback": [
      "\u001b[0;31m---------------------------------------------------------------------------\u001b[0m",
      "\u001b[0;31mModuleNotFoundError\u001b[0m                       Traceback (most recent call last)",
      "Cell \u001b[0;32mIn[1], line 3\u001b[0m\n\u001b[1;32m      1\u001b[0m \u001b[38;5;28;01mimport\u001b[39;00m \u001b[38;5;21;01mcv2\u001b[39;00m\n\u001b[1;32m      2\u001b[0m \u001b[38;5;28;01mimport\u001b[39;00m \u001b[38;5;21;01mtime\u001b[39;00m\n\u001b[0;32m----> 3\u001b[0m \u001b[38;5;28;01mimport\u001b[39;00m \u001b[38;5;21;01mimutils\u001b[39;00m\n\u001b[1;32m      5\u001b[0m vs\u001b[38;5;241m=\u001b[39mcv2\u001b[38;5;241m.\u001b[39mVideoCapture(\u001b[38;5;124m\"\u001b[39m\u001b[38;5;124mvideo.mp4\u001b[39m\u001b[38;5;124m\"\u001b[39m)\n\u001b[1;32m      6\u001b[0m time\u001b[38;5;241m.\u001b[39msleep(\u001b[38;5;241m1\u001b[39m)\n",
      "\u001b[0;31mModuleNotFoundError\u001b[0m: No module named 'imutils'"
     ]
    }
   ],
   "source": [
    "import cv2\n",
    "import time\n",
    "import imutils\n",
    "\n",
    "vs=cv2.VideoCapture(\"video.mp4\")\n",
    "time.sleep(1)\n",
    "firstFrame=None\n",
    "area=1000\n",
    "while True:\n",
    "    _,img=vs.read()\n",
    "    text=\"Normal\"\n",
    "    img=imutils.resize(img,width=800)\n",
    "    grayImg=cv2.cvtColor(img,cv2.COLOR_BGR2GRAY)\n",
    "    blur=cv2.GaussianBlur(grayImg,(21,21),0)\n",
    "    if firstFrame is None:\n",
    "        firstFrame=blur\n",
    "        continue\n",
    "    imgDiff=cv2.absdiff(firstFrame,blur)\n",
    "    thresholdImg=cv2.threshold(imgDiff,25,255,cv2.THRESH_BINARY)[1]\n",
    "    thresholdImg=cv2.dilate(thresholdImg,None,iterations=2)\n",
    "    cnts=cv2.findContours(thresholdImg.copy(),cv2.RETR_EXTERNAL,cv2.CHAIN_APPROX_SIMPLE)\n",
    "    cnts=imutils.grab_contours(cnts)\n",
    "    for c in cnts :\n",
    "        if cv2.contourArea(c) < area:\n",
    "            continue\n",
    "        (x,y,w,h)=cv2.boundingRect(c)\n",
    "        cv2.rectangle(img,(x,y),((x+w),(y+h)),(0,255,0),2)\n",
    "        text=\"MovingObjectDetection\"\n",
    "    print(text)\n",
    "    cv2.putText(img, text, (10, 20),\n",
    "            cv2.FONT_HERSHEY_SIMPLEX, 0.5, (0, 0, 255), 2)\n",
    "    cv2.imshow(\"VidoeStream\",img)\n",
    "    if cv2.waitKey(10) &0xFF == 27:\n",
    "        break\n",
    "vs.release()\n",
    "cv2.destroyAllWindows()"
   ]
  },
  {
   "cell_type": "code",
   "execution_count": null,
   "id": "61c420ba",
   "metadata": {},
   "outputs": [],
   "source": []
  },
  {
   "cell_type": "code",
   "execution_count": null,
   "id": "f97c56b0",
   "metadata": {},
   "outputs": [],
   "source": []
  },
  {
   "cell_type": "code",
   "execution_count": null,
   "id": "b03b6857",
   "metadata": {},
   "outputs": [],
   "source": []
  }
 ],
 "metadata": {
  "kernelspec": {
   "display_name": "Python 3 (ipykernel)",
   "language": "python",
   "name": "python3"
  },
  "language_info": {
   "codemirror_mode": {
    "name": "ipython",
    "version": 3
   },
   "file_extension": ".py",
   "mimetype": "text/x-python",
   "name": "python",
   "nbconvert_exporter": "python",
   "pygments_lexer": "ipython3",
   "version": "3.11.4"
  }
 },
 "nbformat": 4,
 "nbformat_minor": 5
}
